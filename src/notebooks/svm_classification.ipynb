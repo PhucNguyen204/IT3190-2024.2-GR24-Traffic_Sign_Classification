{
  "cells": [
    {
      "cell_type": "markdown",
      "source": [
        "# Downlaod data và giải nén"
      ],
      "metadata": {
        "id": "JQ1WEpaURxOY"
      },
      "id": "JQ1WEpaURxOY"
    },
    {
      "cell_type": "code",
      "execution_count": 1,
      "id": "nMzdeov5jS7Z",
      "metadata": {
        "colab": {
          "base_uri": "https://localhost:8080/",
          "height": 122
        },
        "id": "nMzdeov5jS7Z",
        "outputId": "603ee4ca-2c45-4b64-a2ce-0b8cae80a05b"
      },
      "outputs": [
        {
          "output_type": "stream",
          "name": "stderr",
          "text": [
            "Downloading...\n",
            "From (original): https://drive.google.com/uc?id=1wB67AZv3zh8UUccih-ybDIGnSGq9fLNb\n",
            "From (redirected): https://drive.google.com/uc?id=1wB67AZv3zh8UUccih-ybDIGnSGq9fLNb&confirm=t&uuid=1a0ac773-b789-4e75-91bb-deccf8485795\n",
            "To: /content/data.zip\n",
            "100%|██████████| 642M/642M [00:13<00:00, 47.2MB/s]\n"
          ]
        },
        {
          "output_type": "execute_result",
          "data": {
            "text/plain": [
              "'data.zip'"
            ],
            "application/vnd.google.colaboratory.intrinsic+json": {
              "type": "string"
            }
          },
          "metadata": {},
          "execution_count": 1
        }
      ],
      "source": [
        "import gdown\n",
        "\n",
        "# https://drive.google.com/file/d/1wB67AZv3zh8UUccih-ybDIGnSGq9fLNb/view?usp=drive_link\n",
        "\n",
        "# Google Drive file ID\n",
        "file_id = \"1wB67AZv3zh8UUccih-ybDIGnSGq9fLNb\"\n",
        "output = \"data.zip\"\n",
        "\n",
        "# Tải file từ Google Drive\n",
        "gdown.download(f\"https://drive.google.com/uc?id={file_id}\", output, quiet=False)\n"
      ]
    },
    {
      "cell_type": "code",
      "execution_count": 2,
      "id": "kUNXpeJqn_M3",
      "metadata": {
        "colab": {
          "base_uri": "https://localhost:8080/"
        },
        "id": "kUNXpeJqn_M3",
        "outputId": "09419ee6-39c2-465d-bb61-f6aaff8d272d"
      },
      "outputs": [
        {
          "output_type": "stream",
          "name": "stdout",
          "text": [
            "Đã giải nén xong!\n"
          ]
        }
      ],
      "source": [
        "import zipfile\n",
        "\n",
        "with zipfile.ZipFile(\"data.zip\", 'r') as zip_ref:\n",
        "    zip_ref.extractall(\"data\")  # Thư mục đích\n",
        "\n",
        "print(\"Đã giải nén xong!\")\n"
      ]
    },
    {
      "cell_type": "code",
      "execution_count": 3,
      "id": "28e7afef",
      "metadata": {
        "id": "28e7afef"
      },
      "outputs": [],
      "source": [
        "import time\n",
        "import os\n",
        "import cv2\n",
        "import numpy as np\n",
        "import pandas as pd\n",
        "import matplotlib.pyplot as plt\n",
        "\n",
        "from skimage.transform import resize\n",
        "from skimage import feature\n",
        "from sklearn.svm import SVC\n",
        "from sklearn.preprocessing import LabelEncoder\n",
        "from sklearn.preprocessing import StandardScaler\n",
        "from sklearn.model_selection import train_test_split\n",
        "from sklearn.metrics import accuracy_score\n",
        "from sklearn.metrics import classification_report, confusion_matrix"
      ]
    },
    {
      "cell_type": "markdown",
      "id": "e2a98fb6",
      "metadata": {
        "id": "e2a98fb6"
      },
      "source": [
        "# Read and extract data"
      ]
    },
    {
      "cell_type": "markdown",
      "id": "a11f47ae",
      "metadata": {
        "id": "a11f47ae"
      },
      "source": [
        "- Các list cần tạo: label_train, img_train, label_test, img_test, label_meta, img_meta\n",
        "\n",
        "- Các trường trog file csv: Width, Height, Roi.X1, Roi.Y1, Roi.X2, Roi.Y2, ClassId, Path\n"
      ]
    },
    {
      "cell_type": "markdown",
      "source": [
        "## 1. Đọc dữ liệu tập train"
      ],
      "metadata": {
        "id": "3IlpF0lER6V3"
      },
      "id": "3IlpF0lER6V3"
    },
    {
      "cell_type": "code",
      "execution_count": 4,
      "id": "29f7bfe7",
      "metadata": {
        "id": "29f7bfe7"
      },
      "outputs": [],
      "source": [
        "# Đường dẫn đến thư mục train\n",
        "data_dir = '/content/data'\n",
        "csv_train_path = os.path.join(data_dir, 'Train.csv')\n",
        "\n",
        "# Đọc file CSV\n",
        "df = pd.read_csv(csv_train_path)\n",
        "\n",
        "# Khởi tạo danh sách lưu ảnh và nhãn\n",
        "img_train = []\n",
        "label_train = []\n",
        "\n",
        "# Duyệt từng dòng trong dataframe\n",
        "for index, row in df.iterrows():\n",
        "    # Lấy thông tin từ các cột\n",
        "    path_img = os.path.join(data_dir, row['Path'])  # Nối đường dẫn đầy đủ\n",
        "    x1, y1, x2, y2 = int(row['Roi.X1']), int(row['Roi.Y1']), int(row['Roi.X2']), int(row['Roi.Y2'])\n",
        "    class_id = row['ClassId']\n",
        "\n",
        "    # Đọc ảnh\n",
        "    img = cv2.imread(path_img)\n",
        "\n",
        "    # Kiểm tra ảnh có tồn tại và hợp lệ không\n",
        "    if img is not None:\n",
        "        # Cắt ảnh theo ROI\n",
        "        roi = img[y1:y2, x1:x2]\n",
        "\n",
        "        # Lưu vào danh sách\n",
        "        img_train.append(roi)\n",
        "        label_train.append(class_id)\n",
        "    else:\n",
        "        print(f\"Lỗi: Không đọc được ảnh {path_img}\")\n"
      ]
    },
    {
      "cell_type": "code",
      "execution_count": 5,
      "id": "3f1550b8",
      "metadata": {
        "id": "3f1550b8",
        "colab": {
          "base_uri": "https://localhost:8080/"
        },
        "outputId": "b3170ab2-efb3-4ac2-c6f0-5b184641fec0"
      },
      "outputs": [
        {
          "output_type": "stream",
          "name": "stdout",
          "text": [
            "Number of objects:  39209\n",
            "Class names:  [0, 1, 2, 3, 4, 5, 6, 7, 8, 9, 10, 11, 12, 13, 14, 15, 16, 17, 18, 19, 20, 21, 22, 23, 24, 25, 26, 27, 28, 29, 30, 31, 32, 33, 34, 35, 36, 37, 38, 39, 40, 41, 42]\n"
          ]
        }
      ],
      "source": [
        "print('Number of objects: ', len(img_train))\n",
        "print('Class names: ', list(set(label_train)))"
      ]
    },
    {
      "cell_type": "markdown",
      "source": [
        "## 2. Đọc dữ liệu tập test"
      ],
      "metadata": {
        "id": "jvCPFzxISCV_"
      },
      "id": "jvCPFzxISCV_"
    },
    {
      "cell_type": "code",
      "execution_count": 6,
      "id": "8cf7a989",
      "metadata": {
        "id": "8cf7a989"
      },
      "outputs": [],
      "source": [
        "csv_test_path = os.path.join(data_dir, 'Test.csv')\n",
        "\n",
        "# Đọc file CSV\n",
        "df = pd.read_csv(csv_test_path)\n",
        "\n",
        "# Khởi tạo danh sách lưu ảnh và nhãn\n",
        "img_test = []\n",
        "label_test = []\n",
        "\n",
        "# Duyệt từng dòng trong dataframe\n",
        "for index, row in df.iterrows():\n",
        "    # Lấy thông tin từ các cột\n",
        "    path_img = os.path.join(data_dir, row['Path'])  # Nối đường dẫn đầy đủ\n",
        "    x1, y1, x2, y2 = int(row['Roi.X1']), int(row['Roi.Y1']), int(row['Roi.X2']), int(row['Roi.Y2'])\n",
        "    class_id = row['ClassId']\n",
        "\n",
        "    # Đọc ảnh\n",
        "    img = cv2.imread(path_img)\n",
        "\n",
        "    # Kiểm tra ảnh có tồn tại và hợp lệ không\n",
        "    if img is not None:\n",
        "        # Cắt ảnh theo ROI\n",
        "        roi = img[y1:y2, x1:x2]\n",
        "\n",
        "        # Lưu vào danh sách\n",
        "        img_test.append(roi)\n",
        "        label_test.append(class_id)\n",
        "    else:\n",
        "        print(f\"Lỗi: Không đọc được ảnh {path_img}\")\n"
      ]
    },
    {
      "cell_type": "code",
      "execution_count": 7,
      "id": "d16897d5",
      "metadata": {
        "id": "d16897d5",
        "colab": {
          "base_uri": "https://localhost:8080/"
        },
        "outputId": "873444bc-6bfa-4557-d2b3-ad883d6828d0"
      },
      "outputs": [
        {
          "output_type": "stream",
          "name": "stdout",
          "text": [
            "Number of objects:  12630\n",
            "Class names:  [0, 1, 2, 3, 4, 5, 6, 7, 8, 9, 10, 11, 12, 13, 14, 15, 16, 17, 18, 19, 20, 21, 22, 23, 24, 25, 26, 27, 28, 29, 30, 31, 32, 33, 34, 35, 36, 37, 38, 39, 40, 41, 42]\n"
          ]
        }
      ],
      "source": [
        "print('Number of objects: ', len(img_test))\n",
        "print('Class names: ', list(set(label_test)))"
      ]
    },
    {
      "cell_type": "markdown",
      "id": "475f0b23",
      "metadata": {
        "id": "475f0b23"
      },
      "source": [
        "# Preprocess image"
      ]
    },
    {
      "cell_type": "code",
      "execution_count": 8,
      "id": "5c0ca168",
      "metadata": {
        "id": "5c0ca168"
      },
      "outputs": [],
      "source": [
        "def preprocess_img(img):\n",
        "    if len(img.shape) > 2:\n",
        "        img = cv2.cvtColor(img, cv2.COLOR_BGR2GRAY)\n",
        "    img = img.astype(np.float32)\n",
        "\n",
        "    resized_img = resize(\n",
        "        img,\n",
        "        output_shape=(32, 32),\n",
        "        anti_aliasing=True\n",
        "    )\n",
        "\n",
        "    hog_feature = feature.hog(\n",
        "        resized_img,\n",
        "        orientations=9,\n",
        "        pixels_per_cell=(8, 8),\n",
        "        cells_per_block=(2, 2),\n",
        "        transform_sqrt=True,\n",
        "        block_norm=\"L2\",\n",
        "        feature_vector=True\n",
        "    )\n",
        "\n",
        "    return hog_feature"
      ]
    },
    {
      "cell_type": "code",
      "execution_count": 9,
      "id": "4ae2a619",
      "metadata": {
        "id": "4ae2a619",
        "colab": {
          "base_uri": "https://localhost:8080/"
        },
        "outputId": "63ad4591-b59d-453c-f853-d378e7d223ad"
      },
      "outputs": [
        {
          "output_type": "stream",
          "name": "stdout",
          "text": [
            "X shape:\n",
            "(39209, 324)\n",
            "39209\n"
          ]
        }
      ],
      "source": [
        "img_features_train_lst = []\n",
        "for img in img_train:\n",
        "    hog_feature = preprocess_img(img)\n",
        "    img_features_train_lst.append(hog_feature)\n",
        "\n",
        "img_features_train = np.array(img_features_train_lst)\n",
        "print('X shape:')\n",
        "print(img_features_train.shape)\n",
        "\n",
        "print(len(label_train))"
      ]
    },
    {
      "cell_type": "code",
      "execution_count": 10,
      "id": "2558b6a7",
      "metadata": {
        "id": "2558b6a7",
        "colab": {
          "base_uri": "https://localhost:8080/"
        },
        "outputId": "312e0fae-4846-4aef-b676-0e4b2c3c5f58"
      },
      "outputs": [
        {
          "output_type": "stream",
          "name": "stdout",
          "text": [
            "X shape:\n",
            "(12630, 324)\n",
            "12630\n"
          ]
        }
      ],
      "source": [
        "img_features_test_lst = []\n",
        "for img in img_test:\n",
        "    hog_feature = preprocess_img(img)\n",
        "    img_features_test_lst.append(hog_feature)\n",
        "\n",
        "img_features_test = np.array(img_features_test_lst)\n",
        "print('X shape:')\n",
        "print(img_features_test.shape)\n",
        "\n",
        "print(len(label_test))"
      ]
    },
    {
      "cell_type": "markdown",
      "source": [
        "# Chia tập train, val"
      ],
      "metadata": {
        "id": "1SH3zJNEZbiZ"
      },
      "id": "1SH3zJNEZbiZ"
    },
    {
      "cell_type": "code",
      "source": [
        "random_state = 0\n",
        "test_size = 0.3\n",
        "is_shuffle = True\n",
        "\n",
        "X_train, X_val, y_train, y_val = train_test_split(\n",
        "    img_features_train, label_train,\n",
        "    test_size=test_size,\n",
        "    random_state=random_state,\n",
        "    shuffle=is_shuffle\n",
        ")"
      ],
      "metadata": {
        "id": "Tx66HyR5XuJk"
      },
      "id": "Tx66HyR5XuJk",
      "execution_count": 11,
      "outputs": []
    },
    {
      "cell_type": "markdown",
      "id": "5833a57a",
      "metadata": {
        "id": "5833a57a"
      },
      "source": [
        "# Normalization"
      ]
    },
    {
      "cell_type": "code",
      "execution_count": 12,
      "id": "ef063ea7",
      "metadata": {
        "id": "ef063ea7"
      },
      "outputs": [],
      "source": [
        "scaler = StandardScaler()\n",
        "X_train = scaler.fit_transform(X_train)\n",
        "X_val = scaler.transform(X_val)\n",
        "X_test = scaler.transform(img_features_test)"
      ]
    },
    {
      "cell_type": "code",
      "execution_count": 13,
      "id": "242f3c9a",
      "metadata": {
        "id": "242f3c9a",
        "colab": {
          "base_uri": "https://localhost:8080/"
        },
        "outputId": "0a644a63-e460-45e9-b82a-fd62ff1fa296"
      },
      "outputs": [
        {
          "output_type": "stream",
          "name": "stdout",
          "text": [
            "(27446, 324)\n",
            "27446\n"
          ]
        }
      ],
      "source": [
        "print(X_train.shape)\n",
        "print(len(y_train))"
      ]
    },
    {
      "cell_type": "code",
      "source": [
        "print(X_val.shape)\n",
        "print(len(y_val))"
      ],
      "metadata": {
        "colab": {
          "base_uri": "https://localhost:8080/"
        },
        "id": "giN_l4vmYWPt",
        "outputId": "0183792b-0c03-4697-9c27-0ddf92097e24"
      },
      "id": "giN_l4vmYWPt",
      "execution_count": 14,
      "outputs": [
        {
          "output_type": "stream",
          "name": "stdout",
          "text": [
            "(11763, 324)\n",
            "11763\n"
          ]
        }
      ]
    },
    {
      "cell_type": "code",
      "source": [
        "y_test = label_test\n",
        "\n",
        "print(X_test.shape)\n",
        "print(len(y_test))"
      ],
      "metadata": {
        "colab": {
          "base_uri": "https://localhost:8080/"
        },
        "id": "d_1xJB6UYVmz",
        "outputId": "096548e3-8dc4-454a-8c62-817a2de8f8c7"
      },
      "id": "d_1xJB6UYVmz",
      "execution_count": 15,
      "outputs": [
        {
          "output_type": "stream",
          "name": "stdout",
          "text": [
            "(12630, 324)\n",
            "12630\n"
          ]
        }
      ]
    },
    {
      "cell_type": "markdown",
      "id": "2cbb16a3",
      "metadata": {
        "id": "2cbb16a3"
      },
      "source": [
        "#Training"
      ]
    },
    {
      "cell_type": "code",
      "execution_count": 16,
      "id": "a9dacd48",
      "metadata": {
        "colab": {
          "base_uri": "https://localhost:8080/",
          "height": 80
        },
        "id": "a9dacd48",
        "outputId": "500a5cb3-2242-46f1-ce4f-2456f62e0549"
      },
      "outputs": [
        {
          "output_type": "execute_result",
          "data": {
            "text/plain": [
              "SVC(C=0.75)"
            ],
            "text/html": [
              "<style>#sk-container-id-1 {\n",
              "  /* Definition of color scheme common for light and dark mode */\n",
              "  --sklearn-color-text: #000;\n",
              "  --sklearn-color-text-muted: #666;\n",
              "  --sklearn-color-line: gray;\n",
              "  /* Definition of color scheme for unfitted estimators */\n",
              "  --sklearn-color-unfitted-level-0: #fff5e6;\n",
              "  --sklearn-color-unfitted-level-1: #f6e4d2;\n",
              "  --sklearn-color-unfitted-level-2: #ffe0b3;\n",
              "  --sklearn-color-unfitted-level-3: chocolate;\n",
              "  /* Definition of color scheme for fitted estimators */\n",
              "  --sklearn-color-fitted-level-0: #f0f8ff;\n",
              "  --sklearn-color-fitted-level-1: #d4ebff;\n",
              "  --sklearn-color-fitted-level-2: #b3dbfd;\n",
              "  --sklearn-color-fitted-level-3: cornflowerblue;\n",
              "\n",
              "  /* Specific color for light theme */\n",
              "  --sklearn-color-text-on-default-background: var(--sg-text-color, var(--theme-code-foreground, var(--jp-content-font-color1, black)));\n",
              "  --sklearn-color-background: var(--sg-background-color, var(--theme-background, var(--jp-layout-color0, white)));\n",
              "  --sklearn-color-border-box: var(--sg-text-color, var(--theme-code-foreground, var(--jp-content-font-color1, black)));\n",
              "  --sklearn-color-icon: #696969;\n",
              "\n",
              "  @media (prefers-color-scheme: dark) {\n",
              "    /* Redefinition of color scheme for dark theme */\n",
              "    --sklearn-color-text-on-default-background: var(--sg-text-color, var(--theme-code-foreground, var(--jp-content-font-color1, white)));\n",
              "    --sklearn-color-background: var(--sg-background-color, var(--theme-background, var(--jp-layout-color0, #111)));\n",
              "    --sklearn-color-border-box: var(--sg-text-color, var(--theme-code-foreground, var(--jp-content-font-color1, white)));\n",
              "    --sklearn-color-icon: #878787;\n",
              "  }\n",
              "}\n",
              "\n",
              "#sk-container-id-1 {\n",
              "  color: var(--sklearn-color-text);\n",
              "}\n",
              "\n",
              "#sk-container-id-1 pre {\n",
              "  padding: 0;\n",
              "}\n",
              "\n",
              "#sk-container-id-1 input.sk-hidden--visually {\n",
              "  border: 0;\n",
              "  clip: rect(1px 1px 1px 1px);\n",
              "  clip: rect(1px, 1px, 1px, 1px);\n",
              "  height: 1px;\n",
              "  margin: -1px;\n",
              "  overflow: hidden;\n",
              "  padding: 0;\n",
              "  position: absolute;\n",
              "  width: 1px;\n",
              "}\n",
              "\n",
              "#sk-container-id-1 div.sk-dashed-wrapped {\n",
              "  border: 1px dashed var(--sklearn-color-line);\n",
              "  margin: 0 0.4em 0.5em 0.4em;\n",
              "  box-sizing: border-box;\n",
              "  padding-bottom: 0.4em;\n",
              "  background-color: var(--sklearn-color-background);\n",
              "}\n",
              "\n",
              "#sk-container-id-1 div.sk-container {\n",
              "  /* jupyter's `normalize.less` sets `[hidden] { display: none; }`\n",
              "     but bootstrap.min.css set `[hidden] { display: none !important; }`\n",
              "     so we also need the `!important` here to be able to override the\n",
              "     default hidden behavior on the sphinx rendered scikit-learn.org.\n",
              "     See: https://github.com/scikit-learn/scikit-learn/issues/21755 */\n",
              "  display: inline-block !important;\n",
              "  position: relative;\n",
              "}\n",
              "\n",
              "#sk-container-id-1 div.sk-text-repr-fallback {\n",
              "  display: none;\n",
              "}\n",
              "\n",
              "div.sk-parallel-item,\n",
              "div.sk-serial,\n",
              "div.sk-item {\n",
              "  /* draw centered vertical line to link estimators */\n",
              "  background-image: linear-gradient(var(--sklearn-color-text-on-default-background), var(--sklearn-color-text-on-default-background));\n",
              "  background-size: 2px 100%;\n",
              "  background-repeat: no-repeat;\n",
              "  background-position: center center;\n",
              "}\n",
              "\n",
              "/* Parallel-specific style estimator block */\n",
              "\n",
              "#sk-container-id-1 div.sk-parallel-item::after {\n",
              "  content: \"\";\n",
              "  width: 100%;\n",
              "  border-bottom: 2px solid var(--sklearn-color-text-on-default-background);\n",
              "  flex-grow: 1;\n",
              "}\n",
              "\n",
              "#sk-container-id-1 div.sk-parallel {\n",
              "  display: flex;\n",
              "  align-items: stretch;\n",
              "  justify-content: center;\n",
              "  background-color: var(--sklearn-color-background);\n",
              "  position: relative;\n",
              "}\n",
              "\n",
              "#sk-container-id-1 div.sk-parallel-item {\n",
              "  display: flex;\n",
              "  flex-direction: column;\n",
              "}\n",
              "\n",
              "#sk-container-id-1 div.sk-parallel-item:first-child::after {\n",
              "  align-self: flex-end;\n",
              "  width: 50%;\n",
              "}\n",
              "\n",
              "#sk-container-id-1 div.sk-parallel-item:last-child::after {\n",
              "  align-self: flex-start;\n",
              "  width: 50%;\n",
              "}\n",
              "\n",
              "#sk-container-id-1 div.sk-parallel-item:only-child::after {\n",
              "  width: 0;\n",
              "}\n",
              "\n",
              "/* Serial-specific style estimator block */\n",
              "\n",
              "#sk-container-id-1 div.sk-serial {\n",
              "  display: flex;\n",
              "  flex-direction: column;\n",
              "  align-items: center;\n",
              "  background-color: var(--sklearn-color-background);\n",
              "  padding-right: 1em;\n",
              "  padding-left: 1em;\n",
              "}\n",
              "\n",
              "\n",
              "/* Toggleable style: style used for estimator/Pipeline/ColumnTransformer box that is\n",
              "clickable and can be expanded/collapsed.\n",
              "- Pipeline and ColumnTransformer use this feature and define the default style\n",
              "- Estimators will overwrite some part of the style using the `sk-estimator` class\n",
              "*/\n",
              "\n",
              "/* Pipeline and ColumnTransformer style (default) */\n",
              "\n",
              "#sk-container-id-1 div.sk-toggleable {\n",
              "  /* Default theme specific background. It is overwritten whether we have a\n",
              "  specific estimator or a Pipeline/ColumnTransformer */\n",
              "  background-color: var(--sklearn-color-background);\n",
              "}\n",
              "\n",
              "/* Toggleable label */\n",
              "#sk-container-id-1 label.sk-toggleable__label {\n",
              "  cursor: pointer;\n",
              "  display: flex;\n",
              "  width: 100%;\n",
              "  margin-bottom: 0;\n",
              "  padding: 0.5em;\n",
              "  box-sizing: border-box;\n",
              "  text-align: center;\n",
              "  align-items: start;\n",
              "  justify-content: space-between;\n",
              "  gap: 0.5em;\n",
              "}\n",
              "\n",
              "#sk-container-id-1 label.sk-toggleable__label .caption {\n",
              "  font-size: 0.6rem;\n",
              "  font-weight: lighter;\n",
              "  color: var(--sklearn-color-text-muted);\n",
              "}\n",
              "\n",
              "#sk-container-id-1 label.sk-toggleable__label-arrow:before {\n",
              "  /* Arrow on the left of the label */\n",
              "  content: \"▸\";\n",
              "  float: left;\n",
              "  margin-right: 0.25em;\n",
              "  color: var(--sklearn-color-icon);\n",
              "}\n",
              "\n",
              "#sk-container-id-1 label.sk-toggleable__label-arrow:hover:before {\n",
              "  color: var(--sklearn-color-text);\n",
              "}\n",
              "\n",
              "/* Toggleable content - dropdown */\n",
              "\n",
              "#sk-container-id-1 div.sk-toggleable__content {\n",
              "  max-height: 0;\n",
              "  max-width: 0;\n",
              "  overflow: hidden;\n",
              "  text-align: left;\n",
              "  /* unfitted */\n",
              "  background-color: var(--sklearn-color-unfitted-level-0);\n",
              "}\n",
              "\n",
              "#sk-container-id-1 div.sk-toggleable__content.fitted {\n",
              "  /* fitted */\n",
              "  background-color: var(--sklearn-color-fitted-level-0);\n",
              "}\n",
              "\n",
              "#sk-container-id-1 div.sk-toggleable__content pre {\n",
              "  margin: 0.2em;\n",
              "  border-radius: 0.25em;\n",
              "  color: var(--sklearn-color-text);\n",
              "  /* unfitted */\n",
              "  background-color: var(--sklearn-color-unfitted-level-0);\n",
              "}\n",
              "\n",
              "#sk-container-id-1 div.sk-toggleable__content.fitted pre {\n",
              "  /* unfitted */\n",
              "  background-color: var(--sklearn-color-fitted-level-0);\n",
              "}\n",
              "\n",
              "#sk-container-id-1 input.sk-toggleable__control:checked~div.sk-toggleable__content {\n",
              "  /* Expand drop-down */\n",
              "  max-height: 200px;\n",
              "  max-width: 100%;\n",
              "  overflow: auto;\n",
              "}\n",
              "\n",
              "#sk-container-id-1 input.sk-toggleable__control:checked~label.sk-toggleable__label-arrow:before {\n",
              "  content: \"▾\";\n",
              "}\n",
              "\n",
              "/* Pipeline/ColumnTransformer-specific style */\n",
              "\n",
              "#sk-container-id-1 div.sk-label input.sk-toggleable__control:checked~label.sk-toggleable__label {\n",
              "  color: var(--sklearn-color-text);\n",
              "  background-color: var(--sklearn-color-unfitted-level-2);\n",
              "}\n",
              "\n",
              "#sk-container-id-1 div.sk-label.fitted input.sk-toggleable__control:checked~label.sk-toggleable__label {\n",
              "  background-color: var(--sklearn-color-fitted-level-2);\n",
              "}\n",
              "\n",
              "/* Estimator-specific style */\n",
              "\n",
              "/* Colorize estimator box */\n",
              "#sk-container-id-1 div.sk-estimator input.sk-toggleable__control:checked~label.sk-toggleable__label {\n",
              "  /* unfitted */\n",
              "  background-color: var(--sklearn-color-unfitted-level-2);\n",
              "}\n",
              "\n",
              "#sk-container-id-1 div.sk-estimator.fitted input.sk-toggleable__control:checked~label.sk-toggleable__label {\n",
              "  /* fitted */\n",
              "  background-color: var(--sklearn-color-fitted-level-2);\n",
              "}\n",
              "\n",
              "#sk-container-id-1 div.sk-label label.sk-toggleable__label,\n",
              "#sk-container-id-1 div.sk-label label {\n",
              "  /* The background is the default theme color */\n",
              "  color: var(--sklearn-color-text-on-default-background);\n",
              "}\n",
              "\n",
              "/* On hover, darken the color of the background */\n",
              "#sk-container-id-1 div.sk-label:hover label.sk-toggleable__label {\n",
              "  color: var(--sklearn-color-text);\n",
              "  background-color: var(--sklearn-color-unfitted-level-2);\n",
              "}\n",
              "\n",
              "/* Label box, darken color on hover, fitted */\n",
              "#sk-container-id-1 div.sk-label.fitted:hover label.sk-toggleable__label.fitted {\n",
              "  color: var(--sklearn-color-text);\n",
              "  background-color: var(--sklearn-color-fitted-level-2);\n",
              "}\n",
              "\n",
              "/* Estimator label */\n",
              "\n",
              "#sk-container-id-1 div.sk-label label {\n",
              "  font-family: monospace;\n",
              "  font-weight: bold;\n",
              "  display: inline-block;\n",
              "  line-height: 1.2em;\n",
              "}\n",
              "\n",
              "#sk-container-id-1 div.sk-label-container {\n",
              "  text-align: center;\n",
              "}\n",
              "\n",
              "/* Estimator-specific */\n",
              "#sk-container-id-1 div.sk-estimator {\n",
              "  font-family: monospace;\n",
              "  border: 1px dotted var(--sklearn-color-border-box);\n",
              "  border-radius: 0.25em;\n",
              "  box-sizing: border-box;\n",
              "  margin-bottom: 0.5em;\n",
              "  /* unfitted */\n",
              "  background-color: var(--sklearn-color-unfitted-level-0);\n",
              "}\n",
              "\n",
              "#sk-container-id-1 div.sk-estimator.fitted {\n",
              "  /* fitted */\n",
              "  background-color: var(--sklearn-color-fitted-level-0);\n",
              "}\n",
              "\n",
              "/* on hover */\n",
              "#sk-container-id-1 div.sk-estimator:hover {\n",
              "  /* unfitted */\n",
              "  background-color: var(--sklearn-color-unfitted-level-2);\n",
              "}\n",
              "\n",
              "#sk-container-id-1 div.sk-estimator.fitted:hover {\n",
              "  /* fitted */\n",
              "  background-color: var(--sklearn-color-fitted-level-2);\n",
              "}\n",
              "\n",
              "/* Specification for estimator info (e.g. \"i\" and \"?\") */\n",
              "\n",
              "/* Common style for \"i\" and \"?\" */\n",
              "\n",
              ".sk-estimator-doc-link,\n",
              "a:link.sk-estimator-doc-link,\n",
              "a:visited.sk-estimator-doc-link {\n",
              "  float: right;\n",
              "  font-size: smaller;\n",
              "  line-height: 1em;\n",
              "  font-family: monospace;\n",
              "  background-color: var(--sklearn-color-background);\n",
              "  border-radius: 1em;\n",
              "  height: 1em;\n",
              "  width: 1em;\n",
              "  text-decoration: none !important;\n",
              "  margin-left: 0.5em;\n",
              "  text-align: center;\n",
              "  /* unfitted */\n",
              "  border: var(--sklearn-color-unfitted-level-1) 1pt solid;\n",
              "  color: var(--sklearn-color-unfitted-level-1);\n",
              "}\n",
              "\n",
              ".sk-estimator-doc-link.fitted,\n",
              "a:link.sk-estimator-doc-link.fitted,\n",
              "a:visited.sk-estimator-doc-link.fitted {\n",
              "  /* fitted */\n",
              "  border: var(--sklearn-color-fitted-level-1) 1pt solid;\n",
              "  color: var(--sklearn-color-fitted-level-1);\n",
              "}\n",
              "\n",
              "/* On hover */\n",
              "div.sk-estimator:hover .sk-estimator-doc-link:hover,\n",
              ".sk-estimator-doc-link:hover,\n",
              "div.sk-label-container:hover .sk-estimator-doc-link:hover,\n",
              ".sk-estimator-doc-link:hover {\n",
              "  /* unfitted */\n",
              "  background-color: var(--sklearn-color-unfitted-level-3);\n",
              "  color: var(--sklearn-color-background);\n",
              "  text-decoration: none;\n",
              "}\n",
              "\n",
              "div.sk-estimator.fitted:hover .sk-estimator-doc-link.fitted:hover,\n",
              ".sk-estimator-doc-link.fitted:hover,\n",
              "div.sk-label-container:hover .sk-estimator-doc-link.fitted:hover,\n",
              ".sk-estimator-doc-link.fitted:hover {\n",
              "  /* fitted */\n",
              "  background-color: var(--sklearn-color-fitted-level-3);\n",
              "  color: var(--sklearn-color-background);\n",
              "  text-decoration: none;\n",
              "}\n",
              "\n",
              "/* Span, style for the box shown on hovering the info icon */\n",
              ".sk-estimator-doc-link span {\n",
              "  display: none;\n",
              "  z-index: 9999;\n",
              "  position: relative;\n",
              "  font-weight: normal;\n",
              "  right: .2ex;\n",
              "  padding: .5ex;\n",
              "  margin: .5ex;\n",
              "  width: min-content;\n",
              "  min-width: 20ex;\n",
              "  max-width: 50ex;\n",
              "  color: var(--sklearn-color-text);\n",
              "  box-shadow: 2pt 2pt 4pt #999;\n",
              "  /* unfitted */\n",
              "  background: var(--sklearn-color-unfitted-level-0);\n",
              "  border: .5pt solid var(--sklearn-color-unfitted-level-3);\n",
              "}\n",
              "\n",
              ".sk-estimator-doc-link.fitted span {\n",
              "  /* fitted */\n",
              "  background: var(--sklearn-color-fitted-level-0);\n",
              "  border: var(--sklearn-color-fitted-level-3);\n",
              "}\n",
              "\n",
              ".sk-estimator-doc-link:hover span {\n",
              "  display: block;\n",
              "}\n",
              "\n",
              "/* \"?\"-specific style due to the `<a>` HTML tag */\n",
              "\n",
              "#sk-container-id-1 a.estimator_doc_link {\n",
              "  float: right;\n",
              "  font-size: 1rem;\n",
              "  line-height: 1em;\n",
              "  font-family: monospace;\n",
              "  background-color: var(--sklearn-color-background);\n",
              "  border-radius: 1rem;\n",
              "  height: 1rem;\n",
              "  width: 1rem;\n",
              "  text-decoration: none;\n",
              "  /* unfitted */\n",
              "  color: var(--sklearn-color-unfitted-level-1);\n",
              "  border: var(--sklearn-color-unfitted-level-1) 1pt solid;\n",
              "}\n",
              "\n",
              "#sk-container-id-1 a.estimator_doc_link.fitted {\n",
              "  /* fitted */\n",
              "  border: var(--sklearn-color-fitted-level-1) 1pt solid;\n",
              "  color: var(--sklearn-color-fitted-level-1);\n",
              "}\n",
              "\n",
              "/* On hover */\n",
              "#sk-container-id-1 a.estimator_doc_link:hover {\n",
              "  /* unfitted */\n",
              "  background-color: var(--sklearn-color-unfitted-level-3);\n",
              "  color: var(--sklearn-color-background);\n",
              "  text-decoration: none;\n",
              "}\n",
              "\n",
              "#sk-container-id-1 a.estimator_doc_link.fitted:hover {\n",
              "  /* fitted */\n",
              "  background-color: var(--sklearn-color-fitted-level-3);\n",
              "}\n",
              "</style><div id=\"sk-container-id-1\" class=\"sk-top-container\"><div class=\"sk-text-repr-fallback\"><pre>SVC(C=0.75)</pre><b>In a Jupyter environment, please rerun this cell to show the HTML representation or trust the notebook. <br />On GitHub, the HTML representation is unable to render, please try loading this page with nbviewer.org.</b></div><div class=\"sk-container\" hidden><div class=\"sk-item\"><div class=\"sk-estimator fitted sk-toggleable\"><input class=\"sk-toggleable__control sk-hidden--visually\" id=\"sk-estimator-id-1\" type=\"checkbox\" checked><label for=\"sk-estimator-id-1\" class=\"sk-toggleable__label fitted sk-toggleable__label-arrow\"><div><div>SVC</div></div><div><a class=\"sk-estimator-doc-link fitted\" rel=\"noreferrer\" target=\"_blank\" href=\"https://scikit-learn.org/1.6/modules/generated/sklearn.svm.SVC.html\">?<span>Documentation for SVC</span></a><span class=\"sk-estimator-doc-link fitted\">i<span>Fitted</span></span></div></label><div class=\"sk-toggleable__content fitted\"><pre>SVC(C=0.75)</pre></div> </div></div></div></div>"
            ]
          },
          "metadata": {},
          "execution_count": 16
        }
      ],
      "source": [
        "clf = SVC(\n",
        "    C=0.75,\n",
        "    kernel='rbf',\n",
        "    gamma='scale'\n",
        ")\n",
        "clf.fit(X_train, y_train)"
      ]
    },
    {
      "cell_type": "markdown",
      "id": "58721756",
      "metadata": {
        "id": "58721756"
      },
      "source": [
        "# Evaluation"
      ]
    },
    {
      "cell_type": "markdown",
      "source": [
        "## Tập val"
      ],
      "metadata": {
        "id": "rwv9koFhZylx"
      },
      "id": "rwv9koFhZylx"
    },
    {
      "cell_type": "code",
      "source": [
        "y_pred_val = clf.predict(X_val)\n",
        "score_val = accuracy_score(y_pred_val, y_val)\n",
        "\n",
        "print('Evaluation results on val set')\n",
        "print('Accuracy: ', score_val)\n",
        "\n",
        "# print(classification_report(y_val, y_pred_val))\n"
      ],
      "metadata": {
        "id": "7-3ApF5WYwDC",
        "colab": {
          "base_uri": "https://localhost:8080/"
        },
        "outputId": "9fe20dc2-5cd5-4f36-8e30-956643927f2b"
      },
      "id": "7-3ApF5WYwDC",
      "execution_count": 17,
      "outputs": [
        {
          "output_type": "stream",
          "name": "stdout",
          "text": [
            "Evaluation results on val set\n",
            "Accuracy:  0.9669302048797076\n",
            "              precision    recall  f1-score   support\n",
            "\n",
            "           0       1.00      0.94      0.97        50\n",
            "           1       0.90      0.90      0.90       679\n",
            "           2       0.93      0.92      0.92       655\n",
            "           3       0.98      0.96      0.97       418\n",
            "           4       0.99      0.99      0.99       625\n",
            "           5       0.84      0.86      0.85       548\n",
            "           6       1.00      1.00      1.00       139\n",
            "           7       0.96      0.94      0.95       433\n",
            "           8       0.92      0.93      0.92       405\n",
            "           9       1.00      0.99      1.00       418\n",
            "          10       1.00      0.99      0.99       607\n",
            "          11       0.92      0.97      0.95       402\n",
            "          12       0.97      1.00      0.98       628\n",
            "          13       1.00      1.00      1.00       673\n",
            "          14       1.00      0.99      0.99       243\n",
            "          15       0.99      0.99      0.99       186\n",
            "          16       1.00      0.99      1.00       134\n",
            "          17       1.00      1.00      1.00       327\n",
            "          18       0.98      0.99      0.99       324\n",
            "          19       1.00      0.97      0.98        62\n",
            "          20       1.00      0.94      0.97       116\n",
            "          21       0.99      0.97      0.98        97\n",
            "          22       0.97      0.98      0.98       113\n",
            "          23       0.99      0.97      0.98       153\n",
            "          24       1.00      0.96      0.98        90\n",
            "          25       0.94      1.00      0.97       472\n",
            "          26       0.95      0.96      0.96       181\n",
            "          27       0.98      0.90      0.94        71\n",
            "          28       0.98      0.94      0.96       194\n",
            "          29       1.00      0.84      0.91        91\n",
            "          30       0.96      0.90      0.93       145\n",
            "          31       1.00      0.98      0.99       234\n",
            "          32       1.00      1.00      1.00        62\n",
            "          33       1.00      1.00      1.00       174\n",
            "          34       1.00      1.00      1.00       121\n",
            "          35       1.00      1.00      1.00       324\n",
            "          36       1.00      1.00      1.00       113\n",
            "          37       1.00      1.00      1.00        72\n",
            "          38       1.00      1.00      1.00       652\n",
            "          39       1.00      0.99      0.99        89\n",
            "          40       1.00      0.99      1.00       113\n",
            "          41       1.00      1.00      1.00        68\n",
            "          42       1.00      1.00      1.00        62\n",
            "\n",
            "    accuracy                           0.97     11763\n",
            "   macro avg       0.98      0.97      0.97     11763\n",
            "weighted avg       0.97      0.97      0.97     11763\n",
            "\n"
          ]
        }
      ]
    },
    {
      "cell_type": "markdown",
      "source": [
        "## Tập test"
      ],
      "metadata": {
        "id": "hOgXh1BSZ0Fa"
      },
      "id": "hOgXh1BSZ0Fa"
    },
    {
      "cell_type": "code",
      "execution_count": 18,
      "id": "bd0bb3de",
      "metadata": {
        "id": "bd0bb3de",
        "colab": {
          "base_uri": "https://localhost:8080/"
        },
        "outputId": "d5af0b27-4e7a-4fad-9fd6-b7246e4dc3fc"
      },
      "outputs": [
        {
          "output_type": "stream",
          "name": "stdout",
          "text": [
            "Evaluation results on test set\n",
            "Accuracy:  0.8923198733174981\n",
            "              precision    recall  f1-score   support\n",
            "\n",
            "           0       1.00      0.52      0.68        60\n",
            "           1       0.76      0.80      0.78       720\n",
            "           2       0.86      0.91      0.89       750\n",
            "           3       0.92      0.84      0.88       450\n",
            "           4       0.97      0.95      0.96       660\n",
            "           5       0.73      0.80      0.76       630\n",
            "           6       0.96      0.70      0.81       150\n",
            "           7       0.93      0.87      0.90       450\n",
            "           8       0.84      0.84      0.84       450\n",
            "           9       0.91      1.00      0.95       480\n",
            "          10       0.99      0.99      0.99       660\n",
            "          11       0.72      0.85      0.78       420\n",
            "          12       0.91      1.00      0.95       690\n",
            "          13       1.00      1.00      1.00       720\n",
            "          14       1.00      0.94      0.97       270\n",
            "          15       1.00      0.99      0.99       210\n",
            "          16       1.00      0.98      0.99       150\n",
            "          17       0.99      0.97      0.98       360\n",
            "          18       0.96      0.83      0.89       390\n",
            "          19       0.95      0.95      0.95        60\n",
            "          20       0.87      0.96      0.91        90\n",
            "          21       0.86      0.72      0.78        90\n",
            "          22       0.88      0.70      0.78       120\n",
            "          23       0.79      0.79      0.79       150\n",
            "          24       0.85      0.73      0.79        90\n",
            "          25       0.71      0.83      0.77       480\n",
            "          26       0.84      0.77      0.81       180\n",
            "          27       0.89      0.40      0.55        60\n",
            "          28       0.91      0.64      0.75       150\n",
            "          29       0.83      0.81      0.82        90\n",
            "          30       0.63      0.56      0.59       150\n",
            "          31       0.87      0.96      0.91       270\n",
            "          32       0.95      0.95      0.95        60\n",
            "          33       0.95      0.99      0.97       210\n",
            "          34       1.00      0.98      0.99       120\n",
            "          35       0.99      0.96      0.98       390\n",
            "          36       1.00      0.98      0.99       120\n",
            "          37       1.00      0.98      0.99        60\n",
            "          38       0.99      0.99      0.99       690\n",
            "          39       1.00      0.96      0.98        90\n",
            "          40       0.92      0.87      0.89        90\n",
            "          41       0.62      0.38      0.47        60\n",
            "          42       0.74      0.71      0.73        90\n",
            "\n",
            "    accuracy                           0.89     12630\n",
            "   macro avg       0.90      0.85      0.86     12630\n",
            "weighted avg       0.90      0.89      0.89     12630\n",
            "\n"
          ]
        }
      ],
      "source": [
        "y_pred_test = clf.predict(X_test)\n",
        "score_test = accuracy_score(y_pred_test, y_test)\n",
        "\n",
        "print('Evaluation results on test set')\n",
        "print('Accuracy: ', score_test)\n",
        "\n",
        "# print(classification_report(y_test, y_pred_test))"
      ]
    },
    {
      "cell_type": "markdown",
      "source": [
        "## Kernel: sigmoid"
      ],
      "metadata": {
        "id": "oxDejJVDVdmC"
      },
      "id": "oxDejJVDVdmC"
    },
    {
      "cell_type": "code",
      "source": [
        "clf_sigmoid = SVC(\n",
        "    kernel='sigmoid',\n",
        "    C=0.5\n",
        ")\n",
        "clf_sigmoid.fit(X_train, y_train)"
      ],
      "metadata": {
        "id": "def8dVSRT_jA"
      },
      "id": "def8dVSRT_jA",
      "execution_count": null,
      "outputs": []
    },
    {
      "cell_type": "code",
      "source": [
        "y_pred_sigmoid = clf_sigmoid.predict(X_test)\n",
        "score_sigmoid = accuracy_score(y_pred_sigmoid, y_test)\n",
        "\n",
        "print('Evaluation results on test set')\n",
        "print('Accuracy: ', score_sigmoid)\n",
        "# print(classification_report(y_test, y_pred_sigmoid))"
      ],
      "metadata": {
        "id": "4hGaxZ24UC_7"
      },
      "id": "4hGaxZ24UC_7",
      "execution_count": null,
      "outputs": []
    },
    {
      "cell_type": "markdown",
      "source": [
        "## Kernel: Poly"
      ],
      "metadata": {
        "id": "7x6lJuRTVis7"
      },
      "id": "7x6lJuRTVis7"
    },
    {
      "cell_type": "code",
      "source": [
        "clf_poly = SVC(\n",
        "    kernel='poly',\n",
        "    C=0.5\n",
        ")\n",
        "clf_poly.fit(X_train, y_train)"
      ],
      "metadata": {
        "id": "DCy3lN5hVsDN"
      },
      "id": "DCy3lN5hVsDN",
      "execution_count": null,
      "outputs": []
    },
    {
      "cell_type": "code",
      "source": [
        "y_pred_poly = clf_poly.predict(X_test)\n",
        "score_poly = accuracy_score(y_pred_poly, y_test)\n",
        "\n",
        "print('Evaluation results on test set')\n",
        "print('Accuracy: ', score_poly)\n",
        "# print(classification_report(y_test, y_pred_poly))"
      ],
      "metadata": {
        "id": "tbe7B7MVVzCV"
      },
      "id": "tbe7B7MVVzCV",
      "execution_count": null,
      "outputs": []
    },
    {
      "cell_type": "markdown",
      "source": [
        "## Kernel: Linear"
      ],
      "metadata": {
        "id": "yavS7JT5Vn71"
      },
      "id": "yavS7JT5Vn71"
    },
    {
      "cell_type": "code",
      "source": [
        "clf_linear = SVC(\n",
        "    kernel='linear',\n",
        "    # C=0.5\n",
        ")\n",
        "clf_linear.fit(X_train, y_train)"
      ],
      "metadata": {
        "id": "RnIsMjboWZzl",
        "colab": {
          "base_uri": "https://localhost:8080/",
          "height": 80
        },
        "outputId": "c5710cf7-822f-4b0f-e215-2c2a5b211448"
      },
      "id": "RnIsMjboWZzl",
      "execution_count": 23,
      "outputs": [
        {
          "output_type": "execute_result",
          "data": {
            "text/plain": [
              "SVC(kernel='linear')"
            ],
            "text/html": [
              "<style>#sk-container-id-3 {\n",
              "  /* Definition of color scheme common for light and dark mode */\n",
              "  --sklearn-color-text: #000;\n",
              "  --sklearn-color-text-muted: #666;\n",
              "  --sklearn-color-line: gray;\n",
              "  /* Definition of color scheme for unfitted estimators */\n",
              "  --sklearn-color-unfitted-level-0: #fff5e6;\n",
              "  --sklearn-color-unfitted-level-1: #f6e4d2;\n",
              "  --sklearn-color-unfitted-level-2: #ffe0b3;\n",
              "  --sklearn-color-unfitted-level-3: chocolate;\n",
              "  /* Definition of color scheme for fitted estimators */\n",
              "  --sklearn-color-fitted-level-0: #f0f8ff;\n",
              "  --sklearn-color-fitted-level-1: #d4ebff;\n",
              "  --sklearn-color-fitted-level-2: #b3dbfd;\n",
              "  --sklearn-color-fitted-level-3: cornflowerblue;\n",
              "\n",
              "  /* Specific color for light theme */\n",
              "  --sklearn-color-text-on-default-background: var(--sg-text-color, var(--theme-code-foreground, var(--jp-content-font-color1, black)));\n",
              "  --sklearn-color-background: var(--sg-background-color, var(--theme-background, var(--jp-layout-color0, white)));\n",
              "  --sklearn-color-border-box: var(--sg-text-color, var(--theme-code-foreground, var(--jp-content-font-color1, black)));\n",
              "  --sklearn-color-icon: #696969;\n",
              "\n",
              "  @media (prefers-color-scheme: dark) {\n",
              "    /* Redefinition of color scheme for dark theme */\n",
              "    --sklearn-color-text-on-default-background: var(--sg-text-color, var(--theme-code-foreground, var(--jp-content-font-color1, white)));\n",
              "    --sklearn-color-background: var(--sg-background-color, var(--theme-background, var(--jp-layout-color0, #111)));\n",
              "    --sklearn-color-border-box: var(--sg-text-color, var(--theme-code-foreground, var(--jp-content-font-color1, white)));\n",
              "    --sklearn-color-icon: #878787;\n",
              "  }\n",
              "}\n",
              "\n",
              "#sk-container-id-3 {\n",
              "  color: var(--sklearn-color-text);\n",
              "}\n",
              "\n",
              "#sk-container-id-3 pre {\n",
              "  padding: 0;\n",
              "}\n",
              "\n",
              "#sk-container-id-3 input.sk-hidden--visually {\n",
              "  border: 0;\n",
              "  clip: rect(1px 1px 1px 1px);\n",
              "  clip: rect(1px, 1px, 1px, 1px);\n",
              "  height: 1px;\n",
              "  margin: -1px;\n",
              "  overflow: hidden;\n",
              "  padding: 0;\n",
              "  position: absolute;\n",
              "  width: 1px;\n",
              "}\n",
              "\n",
              "#sk-container-id-3 div.sk-dashed-wrapped {\n",
              "  border: 1px dashed var(--sklearn-color-line);\n",
              "  margin: 0 0.4em 0.5em 0.4em;\n",
              "  box-sizing: border-box;\n",
              "  padding-bottom: 0.4em;\n",
              "  background-color: var(--sklearn-color-background);\n",
              "}\n",
              "\n",
              "#sk-container-id-3 div.sk-container {\n",
              "  /* jupyter's `normalize.less` sets `[hidden] { display: none; }`\n",
              "     but bootstrap.min.css set `[hidden] { display: none !important; }`\n",
              "     so we also need the `!important` here to be able to override the\n",
              "     default hidden behavior on the sphinx rendered scikit-learn.org.\n",
              "     See: https://github.com/scikit-learn/scikit-learn/issues/21755 */\n",
              "  display: inline-block !important;\n",
              "  position: relative;\n",
              "}\n",
              "\n",
              "#sk-container-id-3 div.sk-text-repr-fallback {\n",
              "  display: none;\n",
              "}\n",
              "\n",
              "div.sk-parallel-item,\n",
              "div.sk-serial,\n",
              "div.sk-item {\n",
              "  /* draw centered vertical line to link estimators */\n",
              "  background-image: linear-gradient(var(--sklearn-color-text-on-default-background), var(--sklearn-color-text-on-default-background));\n",
              "  background-size: 2px 100%;\n",
              "  background-repeat: no-repeat;\n",
              "  background-position: center center;\n",
              "}\n",
              "\n",
              "/* Parallel-specific style estimator block */\n",
              "\n",
              "#sk-container-id-3 div.sk-parallel-item::after {\n",
              "  content: \"\";\n",
              "  width: 100%;\n",
              "  border-bottom: 2px solid var(--sklearn-color-text-on-default-background);\n",
              "  flex-grow: 1;\n",
              "}\n",
              "\n",
              "#sk-container-id-3 div.sk-parallel {\n",
              "  display: flex;\n",
              "  align-items: stretch;\n",
              "  justify-content: center;\n",
              "  background-color: var(--sklearn-color-background);\n",
              "  position: relative;\n",
              "}\n",
              "\n",
              "#sk-container-id-3 div.sk-parallel-item {\n",
              "  display: flex;\n",
              "  flex-direction: column;\n",
              "}\n",
              "\n",
              "#sk-container-id-3 div.sk-parallel-item:first-child::after {\n",
              "  align-self: flex-end;\n",
              "  width: 50%;\n",
              "}\n",
              "\n",
              "#sk-container-id-3 div.sk-parallel-item:last-child::after {\n",
              "  align-self: flex-start;\n",
              "  width: 50%;\n",
              "}\n",
              "\n",
              "#sk-container-id-3 div.sk-parallel-item:only-child::after {\n",
              "  width: 0;\n",
              "}\n",
              "\n",
              "/* Serial-specific style estimator block */\n",
              "\n",
              "#sk-container-id-3 div.sk-serial {\n",
              "  display: flex;\n",
              "  flex-direction: column;\n",
              "  align-items: center;\n",
              "  background-color: var(--sklearn-color-background);\n",
              "  padding-right: 1em;\n",
              "  padding-left: 1em;\n",
              "}\n",
              "\n",
              "\n",
              "/* Toggleable style: style used for estimator/Pipeline/ColumnTransformer box that is\n",
              "clickable and can be expanded/collapsed.\n",
              "- Pipeline and ColumnTransformer use this feature and define the default style\n",
              "- Estimators will overwrite some part of the style using the `sk-estimator` class\n",
              "*/\n",
              "\n",
              "/* Pipeline and ColumnTransformer style (default) */\n",
              "\n",
              "#sk-container-id-3 div.sk-toggleable {\n",
              "  /* Default theme specific background. It is overwritten whether we have a\n",
              "  specific estimator or a Pipeline/ColumnTransformer */\n",
              "  background-color: var(--sklearn-color-background);\n",
              "}\n",
              "\n",
              "/* Toggleable label */\n",
              "#sk-container-id-3 label.sk-toggleable__label {\n",
              "  cursor: pointer;\n",
              "  display: flex;\n",
              "  width: 100%;\n",
              "  margin-bottom: 0;\n",
              "  padding: 0.5em;\n",
              "  box-sizing: border-box;\n",
              "  text-align: center;\n",
              "  align-items: start;\n",
              "  justify-content: space-between;\n",
              "  gap: 0.5em;\n",
              "}\n",
              "\n",
              "#sk-container-id-3 label.sk-toggleable__label .caption {\n",
              "  font-size: 0.6rem;\n",
              "  font-weight: lighter;\n",
              "  color: var(--sklearn-color-text-muted);\n",
              "}\n",
              "\n",
              "#sk-container-id-3 label.sk-toggleable__label-arrow:before {\n",
              "  /* Arrow on the left of the label */\n",
              "  content: \"▸\";\n",
              "  float: left;\n",
              "  margin-right: 0.25em;\n",
              "  color: var(--sklearn-color-icon);\n",
              "}\n",
              "\n",
              "#sk-container-id-3 label.sk-toggleable__label-arrow:hover:before {\n",
              "  color: var(--sklearn-color-text);\n",
              "}\n",
              "\n",
              "/* Toggleable content - dropdown */\n",
              "\n",
              "#sk-container-id-3 div.sk-toggleable__content {\n",
              "  max-height: 0;\n",
              "  max-width: 0;\n",
              "  overflow: hidden;\n",
              "  text-align: left;\n",
              "  /* unfitted */\n",
              "  background-color: var(--sklearn-color-unfitted-level-0);\n",
              "}\n",
              "\n",
              "#sk-container-id-3 div.sk-toggleable__content.fitted {\n",
              "  /* fitted */\n",
              "  background-color: var(--sklearn-color-fitted-level-0);\n",
              "}\n",
              "\n",
              "#sk-container-id-3 div.sk-toggleable__content pre {\n",
              "  margin: 0.2em;\n",
              "  border-radius: 0.25em;\n",
              "  color: var(--sklearn-color-text);\n",
              "  /* unfitted */\n",
              "  background-color: var(--sklearn-color-unfitted-level-0);\n",
              "}\n",
              "\n",
              "#sk-container-id-3 div.sk-toggleable__content.fitted pre {\n",
              "  /* unfitted */\n",
              "  background-color: var(--sklearn-color-fitted-level-0);\n",
              "}\n",
              "\n",
              "#sk-container-id-3 input.sk-toggleable__control:checked~div.sk-toggleable__content {\n",
              "  /* Expand drop-down */\n",
              "  max-height: 200px;\n",
              "  max-width: 100%;\n",
              "  overflow: auto;\n",
              "}\n",
              "\n",
              "#sk-container-id-3 input.sk-toggleable__control:checked~label.sk-toggleable__label-arrow:before {\n",
              "  content: \"▾\";\n",
              "}\n",
              "\n",
              "/* Pipeline/ColumnTransformer-specific style */\n",
              "\n",
              "#sk-container-id-3 div.sk-label input.sk-toggleable__control:checked~label.sk-toggleable__label {\n",
              "  color: var(--sklearn-color-text);\n",
              "  background-color: var(--sklearn-color-unfitted-level-2);\n",
              "}\n",
              "\n",
              "#sk-container-id-3 div.sk-label.fitted input.sk-toggleable__control:checked~label.sk-toggleable__label {\n",
              "  background-color: var(--sklearn-color-fitted-level-2);\n",
              "}\n",
              "\n",
              "/* Estimator-specific style */\n",
              "\n",
              "/* Colorize estimator box */\n",
              "#sk-container-id-3 div.sk-estimator input.sk-toggleable__control:checked~label.sk-toggleable__label {\n",
              "  /* unfitted */\n",
              "  background-color: var(--sklearn-color-unfitted-level-2);\n",
              "}\n",
              "\n",
              "#sk-container-id-3 div.sk-estimator.fitted input.sk-toggleable__control:checked~label.sk-toggleable__label {\n",
              "  /* fitted */\n",
              "  background-color: var(--sklearn-color-fitted-level-2);\n",
              "}\n",
              "\n",
              "#sk-container-id-3 div.sk-label label.sk-toggleable__label,\n",
              "#sk-container-id-3 div.sk-label label {\n",
              "  /* The background is the default theme color */\n",
              "  color: var(--sklearn-color-text-on-default-background);\n",
              "}\n",
              "\n",
              "/* On hover, darken the color of the background */\n",
              "#sk-container-id-3 div.sk-label:hover label.sk-toggleable__label {\n",
              "  color: var(--sklearn-color-text);\n",
              "  background-color: var(--sklearn-color-unfitted-level-2);\n",
              "}\n",
              "\n",
              "/* Label box, darken color on hover, fitted */\n",
              "#sk-container-id-3 div.sk-label.fitted:hover label.sk-toggleable__label.fitted {\n",
              "  color: var(--sklearn-color-text);\n",
              "  background-color: var(--sklearn-color-fitted-level-2);\n",
              "}\n",
              "\n",
              "/* Estimator label */\n",
              "\n",
              "#sk-container-id-3 div.sk-label label {\n",
              "  font-family: monospace;\n",
              "  font-weight: bold;\n",
              "  display: inline-block;\n",
              "  line-height: 1.2em;\n",
              "}\n",
              "\n",
              "#sk-container-id-3 div.sk-label-container {\n",
              "  text-align: center;\n",
              "}\n",
              "\n",
              "/* Estimator-specific */\n",
              "#sk-container-id-3 div.sk-estimator {\n",
              "  font-family: monospace;\n",
              "  border: 1px dotted var(--sklearn-color-border-box);\n",
              "  border-radius: 0.25em;\n",
              "  box-sizing: border-box;\n",
              "  margin-bottom: 0.5em;\n",
              "  /* unfitted */\n",
              "  background-color: var(--sklearn-color-unfitted-level-0);\n",
              "}\n",
              "\n",
              "#sk-container-id-3 div.sk-estimator.fitted {\n",
              "  /* fitted */\n",
              "  background-color: var(--sklearn-color-fitted-level-0);\n",
              "}\n",
              "\n",
              "/* on hover */\n",
              "#sk-container-id-3 div.sk-estimator:hover {\n",
              "  /* unfitted */\n",
              "  background-color: var(--sklearn-color-unfitted-level-2);\n",
              "}\n",
              "\n",
              "#sk-container-id-3 div.sk-estimator.fitted:hover {\n",
              "  /* fitted */\n",
              "  background-color: var(--sklearn-color-fitted-level-2);\n",
              "}\n",
              "\n",
              "/* Specification for estimator info (e.g. \"i\" and \"?\") */\n",
              "\n",
              "/* Common style for \"i\" and \"?\" */\n",
              "\n",
              ".sk-estimator-doc-link,\n",
              "a:link.sk-estimator-doc-link,\n",
              "a:visited.sk-estimator-doc-link {\n",
              "  float: right;\n",
              "  font-size: smaller;\n",
              "  line-height: 1em;\n",
              "  font-family: monospace;\n",
              "  background-color: var(--sklearn-color-background);\n",
              "  border-radius: 1em;\n",
              "  height: 1em;\n",
              "  width: 1em;\n",
              "  text-decoration: none !important;\n",
              "  margin-left: 0.5em;\n",
              "  text-align: center;\n",
              "  /* unfitted */\n",
              "  border: var(--sklearn-color-unfitted-level-1) 1pt solid;\n",
              "  color: var(--sklearn-color-unfitted-level-1);\n",
              "}\n",
              "\n",
              ".sk-estimator-doc-link.fitted,\n",
              "a:link.sk-estimator-doc-link.fitted,\n",
              "a:visited.sk-estimator-doc-link.fitted {\n",
              "  /* fitted */\n",
              "  border: var(--sklearn-color-fitted-level-1) 1pt solid;\n",
              "  color: var(--sklearn-color-fitted-level-1);\n",
              "}\n",
              "\n",
              "/* On hover */\n",
              "div.sk-estimator:hover .sk-estimator-doc-link:hover,\n",
              ".sk-estimator-doc-link:hover,\n",
              "div.sk-label-container:hover .sk-estimator-doc-link:hover,\n",
              ".sk-estimator-doc-link:hover {\n",
              "  /* unfitted */\n",
              "  background-color: var(--sklearn-color-unfitted-level-3);\n",
              "  color: var(--sklearn-color-background);\n",
              "  text-decoration: none;\n",
              "}\n",
              "\n",
              "div.sk-estimator.fitted:hover .sk-estimator-doc-link.fitted:hover,\n",
              ".sk-estimator-doc-link.fitted:hover,\n",
              "div.sk-label-container:hover .sk-estimator-doc-link.fitted:hover,\n",
              ".sk-estimator-doc-link.fitted:hover {\n",
              "  /* fitted */\n",
              "  background-color: var(--sklearn-color-fitted-level-3);\n",
              "  color: var(--sklearn-color-background);\n",
              "  text-decoration: none;\n",
              "}\n",
              "\n",
              "/* Span, style for the box shown on hovering the info icon */\n",
              ".sk-estimator-doc-link span {\n",
              "  display: none;\n",
              "  z-index: 9999;\n",
              "  position: relative;\n",
              "  font-weight: normal;\n",
              "  right: .2ex;\n",
              "  padding: .5ex;\n",
              "  margin: .5ex;\n",
              "  width: min-content;\n",
              "  min-width: 20ex;\n",
              "  max-width: 50ex;\n",
              "  color: var(--sklearn-color-text);\n",
              "  box-shadow: 2pt 2pt 4pt #999;\n",
              "  /* unfitted */\n",
              "  background: var(--sklearn-color-unfitted-level-0);\n",
              "  border: .5pt solid var(--sklearn-color-unfitted-level-3);\n",
              "}\n",
              "\n",
              ".sk-estimator-doc-link.fitted span {\n",
              "  /* fitted */\n",
              "  background: var(--sklearn-color-fitted-level-0);\n",
              "  border: var(--sklearn-color-fitted-level-3);\n",
              "}\n",
              "\n",
              ".sk-estimator-doc-link:hover span {\n",
              "  display: block;\n",
              "}\n",
              "\n",
              "/* \"?\"-specific style due to the `<a>` HTML tag */\n",
              "\n",
              "#sk-container-id-3 a.estimator_doc_link {\n",
              "  float: right;\n",
              "  font-size: 1rem;\n",
              "  line-height: 1em;\n",
              "  font-family: monospace;\n",
              "  background-color: var(--sklearn-color-background);\n",
              "  border-radius: 1rem;\n",
              "  height: 1rem;\n",
              "  width: 1rem;\n",
              "  text-decoration: none;\n",
              "  /* unfitted */\n",
              "  color: var(--sklearn-color-unfitted-level-1);\n",
              "  border: var(--sklearn-color-unfitted-level-1) 1pt solid;\n",
              "}\n",
              "\n",
              "#sk-container-id-3 a.estimator_doc_link.fitted {\n",
              "  /* fitted */\n",
              "  border: var(--sklearn-color-fitted-level-1) 1pt solid;\n",
              "  color: var(--sklearn-color-fitted-level-1);\n",
              "}\n",
              "\n",
              "/* On hover */\n",
              "#sk-container-id-3 a.estimator_doc_link:hover {\n",
              "  /* unfitted */\n",
              "  background-color: var(--sklearn-color-unfitted-level-3);\n",
              "  color: var(--sklearn-color-background);\n",
              "  text-decoration: none;\n",
              "}\n",
              "\n",
              "#sk-container-id-3 a.estimator_doc_link.fitted:hover {\n",
              "  /* fitted */\n",
              "  background-color: var(--sklearn-color-fitted-level-3);\n",
              "}\n",
              "</style><div id=\"sk-container-id-3\" class=\"sk-top-container\"><div class=\"sk-text-repr-fallback\"><pre>SVC(kernel=&#x27;linear&#x27;)</pre><b>In a Jupyter environment, please rerun this cell to show the HTML representation or trust the notebook. <br />On GitHub, the HTML representation is unable to render, please try loading this page with nbviewer.org.</b></div><div class=\"sk-container\" hidden><div class=\"sk-item\"><div class=\"sk-estimator fitted sk-toggleable\"><input class=\"sk-toggleable__control sk-hidden--visually\" id=\"sk-estimator-id-3\" type=\"checkbox\" checked><label for=\"sk-estimator-id-3\" class=\"sk-toggleable__label fitted sk-toggleable__label-arrow\"><div><div>SVC</div></div><div><a class=\"sk-estimator-doc-link fitted\" rel=\"noreferrer\" target=\"_blank\" href=\"https://scikit-learn.org/1.6/modules/generated/sklearn.svm.SVC.html\">?<span>Documentation for SVC</span></a><span class=\"sk-estimator-doc-link fitted\">i<span>Fitted</span></span></div></label><div class=\"sk-toggleable__content fitted\"><pre>SVC(kernel=&#x27;linear&#x27;)</pre></div> </div></div></div></div>"
            ]
          },
          "metadata": {},
          "execution_count": 23
        }
      ]
    },
    {
      "cell_type": "code",
      "source": [
        "y_pred_linear_val = clf_linear.predict(X_val)\n",
        "score_linear_val = accuracy_score(y_pred_linear_val, y_val)\n",
        "\n",
        "print('Evaluation results on val set')\n",
        "print('Accuracy: ', score_linear_val)\n",
        "print(\"Number of support vectors:\", len(clf_linear.support_))"
      ],
      "metadata": {
        "colab": {
          "base_uri": "https://localhost:8080/"
        },
        "id": "gOBuwxMTvVJh",
        "outputId": "ff0ed6bc-66d1-48b9-f049-b3497cdace12"
      },
      "id": "gOBuwxMTvVJh",
      "execution_count": 24,
      "outputs": [
        {
          "output_type": "stream",
          "name": "stdout",
          "text": [
            "Evaluation results on val set\n",
            "Accuracy:  0.9529881832865765\n",
            "Number of support vectors: 8959\n"
          ]
        }
      ]
    },
    {
      "cell_type": "code",
      "source": [
        "y_pred_linear = clf_linear.predict(X_test)\n",
        "score_linear = accuracy_score(y_pred_linear, y_test)\n",
        "\n",
        "print('Evaluation results on test set')\n",
        "print('Accuracy: ', score_linear)\n",
        "print(\"Number of support vectors:\", len(clf_linear.support_))\n",
        "\n",
        "# print(classification_report(y_test, y_pred_linear))"
      ],
      "metadata": {
        "id": "aUVDaCSpWZhS",
        "colab": {
          "base_uri": "https://localhost:8080/"
        },
        "outputId": "4d05cae9-8614-406e-e99b-764c755af9e8"
      },
      "id": "aUVDaCSpWZhS",
      "execution_count": 25,
      "outputs": [
        {
          "output_type": "stream",
          "name": "stdout",
          "text": [
            "Evaluation results on test set\n",
            "Accuracy:  0.8794932699920823\n",
            "Number of support vectors: 8959\n"
          ]
        }
      ]
    },
    {
      "cell_type": "markdown",
      "id": "MrIECO9ecBLa",
      "metadata": {
        "id": "MrIECO9ecBLa"
      },
      "source": [
        "# Tải model"
      ]
    },
    {
      "cell_type": "code",
      "execution_count": 24,
      "id": "cVIn9TTuXAOZ",
      "metadata": {
        "id": "cVIn9TTuXAOZ",
        "colab": {
          "base_uri": "https://localhost:8080/"
        },
        "outputId": "5ad61b93-21fb-4107-a8f1-5f71d5113e5c"
      },
      "outputs": [
        {
          "output_type": "execute_result",
          "data": {
            "text/plain": [
              "['svm_model.pkl']"
            ]
          },
          "metadata": {},
          "execution_count": 24
        }
      ],
      "source": [
        "import joblib\n",
        "\n",
        "joblib.dump(clf, 'svm_model.pkl')\n"
      ]
    },
    {
      "cell_type": "code",
      "execution_count": 25,
      "id": "we4f3CCTXI42",
      "metadata": {
        "id": "we4f3CCTXI42",
        "colab": {
          "base_uri": "https://localhost:8080/",
          "height": 17
        },
        "outputId": "6d05ef5d-5b77-453a-bcac-8bd794e19a8e"
      },
      "outputs": [
        {
          "output_type": "display_data",
          "data": {
            "text/plain": [
              "<IPython.core.display.Javascript object>"
            ],
            "application/javascript": [
              "\n",
              "    async function download(id, filename, size) {\n",
              "      if (!google.colab.kernel.accessAllowed) {\n",
              "        return;\n",
              "      }\n",
              "      const div = document.createElement('div');\n",
              "      const label = document.createElement('label');\n",
              "      label.textContent = `Downloading \"${filename}\": `;\n",
              "      div.appendChild(label);\n",
              "      const progress = document.createElement('progress');\n",
              "      progress.max = size;\n",
              "      div.appendChild(progress);\n",
              "      document.body.appendChild(div);\n",
              "\n",
              "      const buffers = [];\n",
              "      let downloaded = 0;\n",
              "\n",
              "      const channel = await google.colab.kernel.comms.open(id);\n",
              "      // Send a message to notify the kernel that we're ready.\n",
              "      channel.send({})\n",
              "\n",
              "      for await (const message of channel.messages) {\n",
              "        // Send a message to notify the kernel that we're ready.\n",
              "        channel.send({})\n",
              "        if (message.buffers) {\n",
              "          for (const buffer of message.buffers) {\n",
              "            buffers.push(buffer);\n",
              "            downloaded += buffer.byteLength;\n",
              "            progress.value = downloaded;\n",
              "          }\n",
              "        }\n",
              "      }\n",
              "      const blob = new Blob(buffers, {type: 'application/binary'});\n",
              "      const a = document.createElement('a');\n",
              "      a.href = window.URL.createObjectURL(blob);\n",
              "      a.download = filename;\n",
              "      div.appendChild(a);\n",
              "      a.click();\n",
              "      div.remove();\n",
              "    }\n",
              "  "
            ]
          },
          "metadata": {}
        },
        {
          "output_type": "display_data",
          "data": {
            "text/plain": [
              "<IPython.core.display.Javascript object>"
            ],
            "application/javascript": [
              "download(\"download_7c1ff701-e715-4d61-bb06-b39198f194f7\", \"svm_model.pkl\", 43717267)"
            ]
          },
          "metadata": {}
        }
      ],
      "source": [
        "from google.colab import files\n",
        "files.download('svm_model.pkl')\n"
      ]
    },
    {
      "cell_type": "markdown",
      "id": "WvXDt07rdsji",
      "metadata": {
        "id": "WvXDt07rdsji"
      },
      "source": [
        "# Check model đã train"
      ]
    },
    {
      "cell_type": "code",
      "execution_count": 26,
      "id": "JHg1EnI8dS2r",
      "metadata": {
        "id": "JHg1EnI8dS2r",
        "colab": {
          "base_uri": "https://localhost:8080/",
          "height": 313
        },
        "outputId": "9bc6d66a-11d4-4936-88bd-5968409c3db5"
      },
      "outputs": [
        {
          "output_type": "stream",
          "name": "stdout",
          "text": [
            "Requirement already satisfied: gdown in /usr/local/lib/python3.11/dist-packages (5.2.0)\n",
            "Requirement already satisfied: beautifulsoup4 in /usr/local/lib/python3.11/dist-packages (from gdown) (4.13.4)\n",
            "Requirement already satisfied: filelock in /usr/local/lib/python3.11/dist-packages (from gdown) (3.18.0)\n",
            "Requirement already satisfied: requests[socks] in /usr/local/lib/python3.11/dist-packages (from gdown) (2.32.3)\n",
            "Requirement already satisfied: tqdm in /usr/local/lib/python3.11/dist-packages (from gdown) (4.67.1)\n",
            "Requirement already satisfied: soupsieve>1.2 in /usr/local/lib/python3.11/dist-packages (from beautifulsoup4->gdown) (2.7)\n",
            "Requirement already satisfied: typing-extensions>=4.0.0 in /usr/local/lib/python3.11/dist-packages (from beautifulsoup4->gdown) (4.13.2)\n",
            "Requirement already satisfied: charset-normalizer<4,>=2 in /usr/local/lib/python3.11/dist-packages (from requests[socks]->gdown) (3.4.2)\n",
            "Requirement already satisfied: idna<4,>=2.5 in /usr/local/lib/python3.11/dist-packages (from requests[socks]->gdown) (3.10)\n",
            "Requirement already satisfied: urllib3<3,>=1.21.1 in /usr/local/lib/python3.11/dist-packages (from requests[socks]->gdown) (2.4.0)\n",
            "Requirement already satisfied: certifi>=2017.4.17 in /usr/local/lib/python3.11/dist-packages (from requests[socks]->gdown) (2025.4.26)\n",
            "Requirement already satisfied: PySocks!=1.5.7,>=1.5.6 in /usr/local/lib/python3.11/dist-packages (from requests[socks]->gdown) (1.7.1)\n"
          ]
        },
        {
          "output_type": "stream",
          "name": "stderr",
          "text": [
            "Downloading...\n",
            "From: https://drive.google.com/uc?id=1eIL5FlvbWTKe-_hMa1HoyzSvQ9vkDjQP\n",
            "To: /content/svm_model.pkl\n",
            "100%|██████████| 43.7M/43.7M [00:00<00:00, 126MB/s]\n"
          ]
        },
        {
          "output_type": "execute_result",
          "data": {
            "text/plain": [
              "'svm_model.pkl'"
            ],
            "application/vnd.google.colaboratory.intrinsic+json": {
              "type": "string"
            }
          },
          "metadata": {},
          "execution_count": 26
        }
      ],
      "source": [
        "!pip install -U gdown\n",
        "import gdown\n",
        "\n",
        "# https://drive.google.com/file/d/1eIL5FlvbWTKe-_hMa1HoyzSvQ9vkDjQP/view?usp=sharing\n",
        "file_id = \"1eIL5FlvbWTKe-_hMa1HoyzSvQ9vkDjQP\"\n",
        "url = f\"https://drive.google.com/uc?id={file_id}\"\n",
        "\n",
        "output = 'svm_model.pkl'\n",
        "gdown.download(url, output, quiet=False)\n"
      ]
    },
    {
      "cell_type": "code",
      "execution_count": 27,
      "id": "OIdMnvAKdrQE",
      "metadata": {
        "id": "OIdMnvAKdrQE"
      },
      "outputs": [],
      "source": [
        "import joblib\n",
        "\n",
        "model = joblib.load('svm_model.pkl')\n"
      ]
    },
    {
      "cell_type": "code",
      "execution_count": 28,
      "id": "f_qTxWP4eHE5",
      "metadata": {
        "id": "f_qTxWP4eHE5",
        "colab": {
          "base_uri": "https://localhost:8080/"
        },
        "outputId": "1db16ddc-f3a8-4cb0-d345-97423b604097"
      },
      "outputs": [
        {
          "output_type": "stream",
          "name": "stdout",
          "text": [
            "              precision    recall  f1-score   support\n",
            "\n",
            "           0       1.00      0.52      0.68        60\n",
            "           1       0.76      0.80      0.78       720\n",
            "           2       0.86      0.91      0.89       750\n",
            "           3       0.92      0.84      0.88       450\n",
            "           4       0.97      0.95      0.96       660\n",
            "           5       0.73      0.80      0.76       630\n",
            "           6       0.96      0.70      0.81       150\n",
            "           7       0.93      0.87      0.90       450\n",
            "           8       0.84      0.84      0.84       450\n",
            "           9       0.91      1.00      0.95       480\n",
            "          10       0.99      0.99      0.99       660\n",
            "          11       0.72      0.85      0.78       420\n",
            "          12       0.91      1.00      0.95       690\n",
            "          13       1.00      1.00      1.00       720\n",
            "          14       1.00      0.94      0.97       270\n",
            "          15       1.00      0.99      0.99       210\n",
            "          16       1.00      0.98      0.99       150\n",
            "          17       0.99      0.97      0.98       360\n",
            "          18       0.96      0.83      0.89       390\n",
            "          19       0.95      0.95      0.95        60\n",
            "          20       0.87      0.96      0.91        90\n",
            "          21       0.86      0.72      0.78        90\n",
            "          22       0.88      0.70      0.78       120\n",
            "          23       0.79      0.79      0.79       150\n",
            "          24       0.85      0.73      0.79        90\n",
            "          25       0.71      0.83      0.77       480\n",
            "          26       0.84      0.77      0.81       180\n",
            "          27       0.89      0.40      0.55        60\n",
            "          28       0.91      0.64      0.75       150\n",
            "          29       0.83      0.81      0.82        90\n",
            "          30       0.63      0.56      0.59       150\n",
            "          31       0.87      0.96      0.91       270\n",
            "          32       0.95      0.95      0.95        60\n",
            "          33       0.95      0.99      0.97       210\n",
            "          34       1.00      0.98      0.99       120\n",
            "          35       0.99      0.96      0.98       390\n",
            "          36       1.00      0.98      0.99       120\n",
            "          37       1.00      0.98      0.99        60\n",
            "          38       0.99      0.99      0.99       690\n",
            "          39       1.00      0.96      0.98        90\n",
            "          40       0.92      0.87      0.89        90\n",
            "          41       0.62      0.38      0.47        60\n",
            "          42       0.74      0.71      0.73        90\n",
            "\n",
            "    accuracy                           0.89     12630\n",
            "   macro avg       0.90      0.85      0.86     12630\n",
            "weighted avg       0.90      0.89      0.89     12630\n",
            "\n"
          ]
        }
      ],
      "source": [
        "y_pred1 = model.predict(X_test)\n",
        "\n",
        "print(classification_report(y_test, y_pred1))\n"
      ]
    },
    {
      "cell_type": "code",
      "source": [
        "print(confusion_matrix(y_test, y_pred1))"
      ],
      "metadata": {
        "id": "XZVFYCsiw5rX",
        "colab": {
          "base_uri": "https://localhost:8080/"
        },
        "outputId": "57c873be-668f-4b73-96e0-27aee210b921"
      },
      "id": "XZVFYCsiw5rX",
      "execution_count": 29,
      "outputs": [
        {
          "output_type": "stream",
          "name": "stdout",
          "text": [
            "[[ 31  20   0 ...   0   0   0]\n",
            " [  0 578  47 ...   0   0   0]\n",
            " [  0  37 684 ...   2   0   0]\n",
            " ...\n",
            " [  0   5   1 ...  78   0   0]\n",
            " [  0   1   0 ...   0  23   3]\n",
            " [  0   2   1 ...   0  14  64]]\n"
          ]
        }
      ]
    }
  ],
  "metadata": {
    "accelerator": "GPU",
    "colab": {
      "gpuType": "T4",
      "provenance": []
    },
    "kernelspec": {
      "display_name": "Python 3",
      "name": "python3"
    },
    "language_info": {
      "codemirror_mode": {
        "name": "ipython",
        "version": 3
      },
      "file_extension": ".py",
      "mimetype": "text/x-python",
      "name": "python",
      "nbconvert_exporter": "python",
      "pygments_lexer": "ipython3",
      "version": "3.11.1"
    }
  },
  "nbformat": 4,
  "nbformat_minor": 5
}